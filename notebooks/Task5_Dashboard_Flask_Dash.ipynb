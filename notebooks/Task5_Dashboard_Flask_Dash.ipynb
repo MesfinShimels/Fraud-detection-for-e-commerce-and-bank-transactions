{
 "cells": [
  {
   "cell_type": "markdown",
   "metadata": {},
   "source": [
    " Task 5: Dashboard with Flask and Dash\n",
    " \n",
    " This notebook builds an interactive dashboard using Dash.\n",
    " It retrieves fraud statistics from the dashboard API and visualizes:\n",
    " - Summary statistics.\n",
    " - Fraud trends over time."
   ]
  },
  {
   "cell_type": "code",
   "execution_count": null,
   "metadata": {},
   "outputs": [],
   "source": [
    "import dash\n",
    "import dash_core_components as dcc\n",
    "import dash_html_components as html\n",
    "import plotly.express as px\n",
    "import requests\n",
    "import pandas as pd"
   ]
  },
  {
   "cell_type": "markdown",
   "metadata": {},
   "source": [
    "\n",
    " Retrieve fraud statistics and trends from the dashboard API (ensure the API is running on port 5001)"
   ]
  },
  {
   "cell_type": "code",
   "execution_count": null,
   "metadata": {},
   "outputs": [],
   "source": [
    "stats_url = \"http://localhost:5001/fraud_stats\"\n",
    "trends_url = \"http://localhost:5001/fraud_trends\"\n",
    "\n",
    "stats_response = requests.get(stats_url).json()\n",
    "trends_response = requests.get(trends_url).json()"
   ]
  },
  {
   "cell_type": "markdown",
   "metadata": {},
   "source": [
    " Convert fraud trends to DataFrame"
   ]
  },
  {
   "cell_type": "code",
   "execution_count": null,
   "metadata": {},
   "outputs": [],
   "source": [
    "trends_df = pd.DataFrame(trends_response)"
   ]
  },
  {
   "cell_type": "code",
   "execution_count": null,
   "metadata": {},
   "outputs": [],
   "source": [
    "#   Create the Dash app layout\n",
    "app = dash.Dash(__name__)\n",
    "\n",
    "app.layout = html.Div(children=[\n",
    "    html.H1(children='Fraud Detection Dashboard'),\n",
    "    \n",
    "    html.Div(children=[\n",
    "        html.H2(\"Summary Statistics\"),\n",
    "        html.P(f\"Total Transactions: {stats_response.get('total_transactions', 'N/A')}\"),\n",
    "        html.P(f\"Total Fraud Cases: {stats_response.get('total_fraud_cases', 'N/A')}\"),\n",
    "        html.P(f\"Fraud Percentage: {stats_response.get('fraud_percentage', 'N/A'):.2f}%\")\n",
    "    ]),\n",
    "    \n",
    "    html.Div(children=[\n",
    "        html.H2(\"Fraud Cases Over Time\"),\n",
    "        dcc.Graph(\n",
    "            id='fraud-trend-line',\n",
    "            figure=px.line(trends_df, x='date', y='class', title='Daily Fraud Cases')\n",
    "        )\n",
    "    ])\n",
    "])\n",
    "\n",
    "\n",
    "#  Run the Dash app\n",
    "if __name__ == '__main__':\n",
    "    app.run_server(debug=True)\n"
   ]
  }
 ],
 "metadata": {
  "kernelspec": {
   "display_name": ".venv",
   "language": "python",
   "name": "python3"
  },
  "language_info": {
   "name": "python",
   "version": "3.12.8"
  }
 },
 "nbformat": 4,
 "nbformat_minor": 2
}
