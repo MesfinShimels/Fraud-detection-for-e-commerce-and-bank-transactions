{
 "cells": [
  {
   "cell_type": "markdown",
   "metadata": {},
   "source": [
    "  Task 2: Model Building and Training\n",
    "   This notebook:\n",
    "  Loads the preprocessed fraud dataset.\n",
    "- Prepares the data for training.\n",
    "- Trains various models using functions from `model_training.py`.\n",
    "- Evaluates each model and logs experiments with MLflow."
   ]
  },
  {
   "cell_type": "code",
   "execution_count": null,
   "metadata": {},
   "outputs": [],
   "source": [
    "import pandas as pd\n",
    "from scripts.model_training import (prepare_data, train_logistic_regression, train_decision_tree,\n",
    "                                    train_random_forest, train_gradient_boosting, train_mlp, evaluate_model)"
   ]
  },
  {
   "cell_type": "markdown",
   "metadata": {},
   "source": [
    " Load preprocessed fraud data"
   ]
  },
  {
   "cell_type": "code",
   "execution_count": null,
   "metadata": {},
   "outputs": [],
   "source": [
    "\n",
    "fraud_df = pd.read_csv(\"../data/Fraud_Data_Featured.csv\", parse_dates=['purchase_time'])\n",
    "selected_columns = ['purchase_value', 'age', 'hour_of_day', 'day_of_week', 'transaction_count', 'time_diff', 'class']\n",
    "fraud_df = fraud_df[selected_columns].dropna()"
   ]
  },
  {
   "cell_type": "markdown",
   "metadata": {},
   "source": [
    "Prepare data"
   ]
  },
  {
   "cell_type": "code",
   "execution_count": null,
   "metadata": {},
   "outputs": [],
   "source": [
    "\n",
    "\n",
    "#  Prepare data\n",
    "X_train, X_test, y_train, y_test = prepare_data(fraud_df, 'class')\n",
    "\n",
    "\n",
    "#  Train and evaluate models\n",
    "print(\"Training Logistic Regression...\")\n",
    "lr_model = train_logistic_regression(X_train, y_train)\n",
    "evaluate_model(lr_model, X_test, y_test)\n",
    "\n",
    "print(\"Training Decision Tree...\")\n",
    "dt_model = train_decision_tree(X_train, y_train)\n",
    "evaluate_model(dt_model, X_test, y_test)\n",
    "\n",
    "print(\"Training Random Forest...\")\n",
    "rf_model = train_random_forest(X_train, y_train)\n",
    "evaluate_model(rf_model, X_test, y_test)\n",
    "\n",
    "print(\"Training Gradient Boosting...\")\n",
    "gb_model = train_gradient_boosting(X_train, y_train)\n",
    "evaluate_model(gb_model, X_test, y_test)\n",
    "\n",
    "print(\"Training MLP...\")\n",
    "mlp_model = train_mlp(X_train, y_train)\n",
    "evaluate_model(mlp_model, X_test, y_test)\n",
    "\n",
    "\n",
    "\n",
    "\n"
   ]
  },
  {
   "cell_type": "markdown",
   "metadata": {},
   "source": [
    "Save one model for deployment (e.g., Random Forest)"
   ]
  },
  {
   "cell_type": "code",
   "execution_count": null,
   "metadata": {},
   "outputs": [],
   "source": [
    "import pickle\n",
    "with open(\"../scripts/trained_model.pkl\", \"wb\") as f:\n",
    "    pickle.dump(rf_model, f)\n",
    "print(\"Random Forest model saved as trained_model.pkl\")"
   ]
  },
  {
   "cell_type": "markdown",
   "metadata": {},
   "source": []
  }
 ],
 "metadata": {
  "kernelspec": {
   "display_name": ".venv",
   "language": "python",
   "name": "python3"
  },
  "language_info": {
   "name": "python",
   "version": "3.12.8"
  }
 },
 "nbformat": 4,
 "nbformat_minor": 2
}
