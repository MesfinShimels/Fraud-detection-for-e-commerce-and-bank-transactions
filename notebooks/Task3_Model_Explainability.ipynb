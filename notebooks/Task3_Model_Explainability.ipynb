{
 "cells": [
  {
   "cell_type": "markdown",
   "metadata": {},
   "source": [
    "Task 3: Model Explainability\n",
    "In this notebook, we will:\n",
    "- Load the trained model.\n",
    "- Use SHAP to generate global and local explanations.\n",
    "- Use LIME to explain a single prediction.\n",
    "Functions are imported from `model_explainability.py`."
   ]
  },
  {
   "cell_type": "code",
   "execution_count": null,
   "metadata": {},
   "outputs": [],
   "source": [
    "\n",
    "import pandas as pd\n",
    "import pickle\n",
    "\n",
    "from scripts.model_explainability import explain_model_shap, explain_model_lime"
   ]
  },
  {
   "cell_type": "markdown",
   "metadata": {},
   "source": [
    "Load the saved model (here, we use the Random Forest model)"
   ]
  },
  {
   "cell_type": "code",
   "execution_count": null,
   "metadata": {},
   "outputs": [],
   "source": [
    "\n",
    "with open(\"../scripts/trained_model.pkl\", \"rb\") as f:\n",
    "    model = pickle.load(f)"
   ]
  },
  {
   "cell_type": "markdown",
   "metadata": {},
   "source": [
    "Load a subset of the fraud data (select numeric features only for demonstration)"
   ]
  },
  {
   "cell_type": "code",
   "execution_count": null,
   "metadata": {},
   "outputs": [],
   "source": [
    "fraud_df = pd.read_csv(\"../data/Fraud_Data_Featured.csv\", parse_dates=['purchase_time'])\n",
    "selected_columns = ['purchase_value', 'age', 'hour_of_day', 'day_of_week', 'transaction_count', 'time_diff']\n",
    "fraud_df = fraud_df[selected_columns].dropna()\n",
    "X = fraud_df.head(100)\n"
   ]
  },
  {
   "cell_type": "markdown",
   "metadata": {},
   "source": [
    "Generate SHAP explanations"
   ]
  },
  {
   "cell_type": "code",
   "execution_count": null,
   "metadata": {},
   "outputs": [],
   "source": [
    "print(\"Generating SHAP explanation...\")\n",
    "explain_model_shap(model, X, X, selected_columns)"
   ]
  },
  {
   "cell_type": "markdown",
   "metadata": {},
   "source": [
    "Generate LIME explanation for the first instance"
   ]
  },
  {
   "cell_type": "code",
   "execution_count": null,
   "metadata": {},
   "outputs": [],
   "source": [
    "print(\"Generating LIME explanation for the first instance...\")\n",
    "explain_model_lime(model, X, X, selected_columns)"
   ]
  }
 ],
 "metadata": {
  "kernelspec": {
   "display_name": ".venv",
   "language": "python",
   "name": "python3"
  },
  "language_info": {
   "name": "python",
   "version": "3.12.8"
  }
 },
 "nbformat": 4,
 "nbformat_minor": 2
}
