{
 "cells": [
  {
   "cell_type": "markdown",
   "metadata": {},
   "source": [
    " Task 1: Data Analysis and Preprocessing\n",
    " \n",
    " In this notebook, we will:\n",
    " - Load the raw datasets.\n",
    " - Clean the data using functions from `data_preprocessing.py`.\n",
    " - Perform exploratory data analysis (EDA).\n",
    " - Engineer new features using functions from `feature_engineering.py`"
   ]
  },
  {
   "cell_type": "code",
   "execution_count": null,
   "metadata": {},
   "outputs": [],
   "source": [
    "\n",
    "import pandas as pd\n",
    "import matplotlib.pyplot as plt\n",
    "import seaborn as sns\n",
    "import os\n",
    "import sys\n",
    "\n",
    "sys.path.append(os.path.abspath('..'))\n",
    "\n"
   ]
  },
  {
   "cell_type": "markdown",
   "metadata": {},
   "source": [
    "Import custom functions"
   ]
  },
  {
   "cell_type": "code",
   "execution_count": null,
   "metadata": {},
   "outputs": [],
   "source": [
    "\n",
    "from scripts.data_preprocessing import clean_fraud_data, merge_ip_data\n",
    "from scripts.feature_engineering import add_time_features, add_transaction_frequency, add_transaction_velocity\n"
   ]
  },
  {
   "cell_type": "markdown",
   "metadata": {},
   "source": [
    "Load datasets"
   ]
  },
  {
   "cell_type": "code",
   "execution_count": null,
   "metadata": {},
   "outputs": [],
   "source": [
    "\n",
    "\n",
    "fraud_df = pd.read_csv(\"../data/Fraud_Data.csv\")\n",
    "ip_mapping_df = pd.read_csv(\"../data/IpAddress_to_Country.csv\")\n",
    "creditcard_df = pd.read_csv(\"../data/creditcard.csv\")\n",
    "\n"
   ]
  },
  {
   "cell_type": "markdown",
   "metadata": {},
   "source": [
    "Clean Fraud Data"
   ]
  },
  {
   "cell_type": "code",
   "execution_count": null,
   "metadata": {},
   "outputs": [],
   "source": [
    "\n",
    "\n",
    "fraud_df = clean_fraud_data(fraud_df)\n",
    "fraud_df = merge_ip_data(fraud_df, ip_mapping_df)\n",
    "print(\"Cleaned Fraud Data:\")\n",
    "display(fraud_df.head())\n",
    "\n"
   ]
  },
  {
   "cell_type": "markdown",
   "metadata": {},
   "source": [
    "\n",
    "EDA: Distribution of Purchase Value"
   ]
  },
  {
   "cell_type": "code",
   "execution_count": null,
   "metadata": {},
   "outputs": [],
   "source": [
    "\n",
    "plt.figure(figsize=(10,6))\n",
    "sns.histplot(fraud_df['purchase_value'], bins=30, kde=True)\n",
    "plt.title(\"Distribution of Purchase Value\")\n",
    "plt.xlabel(\"Purchase Value ($)\")\n",
    "plt.ylabel(\"Frequency\")\n",
    "plt.show()\n",
    "\n"
   ]
  },
  {
   "cell_type": "markdown",
   "metadata": {},
   "source": [
    "Feature Engineering"
   ]
  },
  {
   "cell_type": "code",
   "execution_count": null,
   "metadata": {},
   "outputs": [],
   "source": [
    "\n",
    "\n",
    "fraud_df['purchase_time'] = pd.to_datetime(fraud_df['purchase_time'])\n",
    "fraud_df = add_time_features(fraud_df)\n",
    "fraud_df = add_transaction_frequency(fraud_df)\n",
    "fraud_df = add_transaction_velocity(fraud_df)\n",
    "print(\"Data with Engineered Features:\")\n",
    "display(fraud_df[['purchase_time', 'hour_of_day', 'day_of_week', 'transaction_count', 'time_diff']].head())\n",
    "\n"
   ]
  },
  {
   "cell_type": "markdown",
   "metadata": {},
   "source": [
    "Save the preprocessed data"
   ]
  },
  {
   "cell_type": "code",
   "execution_count": null,
   "metadata": {},
   "outputs": [],
   "source": []
  },
  {
   "cell_type": "code",
   "execution_count": null,
   "metadata": {},
   "outputs": [],
   "source": [
    "\n",
    "fraud_df.to_csv(\"../data/Fraud_Data_Featured.csv\", index=False)\n",
    "print(\"Preprocessed data saved as Fraud_Data_Featured.csv\")\n"
   ]
  },
  {
   "cell_type": "code",
   "execution_count": null,
   "metadata": {},
   "outputs": [],
   "source": []
  }
 ],
 "metadata": {
  "kernelspec": {
   "display_name": ".venv",
   "language": "python",
   "name": "python3"
  },
  "language_info": {
   "codemirror_mode": {
    "name": "ipython",
    "version": 3
   },
   "file_extension": ".py",
   "mimetype": "text/x-python",
   "name": "python",
   "nbconvert_exporter": "python",
   "pygments_lexer": "ipython3",
   "version": "3.12.8"
  }
 },
 "nbformat": 4,
 "nbformat_minor": 2
}
